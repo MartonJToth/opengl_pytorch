{
  "nbformat": 4,
  "nbformat_minor": 0,
  "metadata": {
    "colab": {
      "name": "opengl_pytorch_lab.ipynb",
      "version": "0.3.2",
      "provenance": [],
      "collapsed_sections": [],
      "include_colab_link": true
    },
    "kernelspec": {
      "name": "python3",
      "display_name": "Python 3"
    },
    "accelerator": "GPU"
  },
  "cells": [
    {
      "cell_type": "markdown",
      "metadata": {
        "id": "view-in-github",
        "colab_type": "text"
      },
      "source": [
        "<a href=\"https://colab.research.google.com/github/MartonJToth/opengl_pytorch/blob/master/opengl_pytorch_lab.ipynb\" target=\"_parent\"><img src=\"https://colab.research.google.com/assets/colab-badge.svg\" alt=\"Open In Colab\"/></a>"
      ]
    },
    {
      "cell_type": "code",
      "metadata": {
        "id": "AryPw03yXFCm",
        "colab_type": "code",
        "colab": {}
      },
      "source": [
        "!apt-get install libglfw3\n",
        "!apt-get install libglfw3-dev\n",
        "!apt-get install xvfb\n",
        "\n",
        "!pip install xvfbwrapper\n",
        "!pip install PyVirtualDisplay\n",
        "!pip install PyOpenGL\n",
        "!pip install glfw"
      ],
      "execution_count": 0,
      "outputs": []
    },
    {
      "cell_type": "markdown",
      "metadata": {
        "id": "vuICl692hWnx",
        "colab_type": "text"
      },
      "source": [
        "Hasznos importok"
      ]
    },
    {
      "cell_type": "code",
      "metadata": {
        "id": "a1kRjEn-XRCB",
        "colab_type": "code",
        "colab": {}
      },
      "source": [
        "import numpy as np\n",
        "from OpenGL.GL import *\n",
        "from OpenGL.GLU import *\n",
        "import glfw\n",
        "from PIL import Image\n",
        "import PIL\n",
        "import matplotlib.pyplot as plt\n",
        "\n",
        "from pyvirtualdisplay import Display as VirtDisplay\n",
        "\n",
        "import torch\n",
        "from torch.utils.data import Dataset\n",
        "import torch.nn as nn\n",
        "from torch.utils.data import DataLoader\n",
        "\n",
        "from skimage.color import rgb2lab, lab2rgb\n",
        "\n",
        "from collections import namedtuple\n",
        "import torchvision.models.vgg as vgg"
      ],
      "execution_count": 0,
      "outputs": []
    },
    {
      "cell_type": "markdown",
      "metadata": {
        "id": "_4nuVdxEhZOB",
        "colab_type": "text"
      },
      "source": [
        "Néhány konstans megadás"
      ]
    },
    {
      "cell_type": "code",
      "metadata": {
        "id": "rMcANWi9XfzQ",
        "colab_type": "code",
        "colab": {}
      },
      "source": [
        "DISPLAY_WIDTH = 300\n",
        "DISPLAY_HEIGHT = 300\n",
        "\n",
        "light_ambient = [0.1, 0.1, 0.1, 0.1]\n",
        "light_diffuse = [0.5, 0.5, 0.5, 1]\n",
        "light_position = [5, 5, 5, 0]\n",
        "\n",
        "torch.manual_seed(999)\n",
        "torch.cuda.manual_seed_all(999)"
      ],
      "execution_count": 0,
      "outputs": []
    },
    {
      "cell_type": "markdown",
      "metadata": {
        "id": "5y4tHkNEhcpY",
        "colab_type": "text"
      },
      "source": [
        "OpenGL inicializálás és erőforrás felszabadítás"
      ]
    },
    {
      "cell_type": "code",
      "metadata": {
        "id": "2LJ7sJRzXjH-",
        "colab_type": "code",
        "colab": {}
      },
      "source": [
        "def init():\n",
        "  \n",
        "  display = VirtDisplay(visible=0, size=(1280, 1024))\n",
        "  display.start()\n",
        "\n",
        "  if not glfw.init():\n",
        "    return\n",
        "\n",
        "  glfw.window_hint(glfw.VISIBLE, False)\n",
        "  window = glfw.create_window(DISPLAY_WIDTH, DISPLAY_HEIGHT, 'hidden_window', None, None)\n",
        "\n",
        "  if not window:\n",
        "    glfw.terminate()\n",
        "    return\n",
        "\n",
        "  glfw.make_context_current(window)\n",
        "\n",
        "  glViewport(0, 0, DISPLAY_WIDTH, DISPLAY_HEIGHT)\n",
        "  glMatrixMode( GL_PROJECTION )\n",
        "  glLoadIdentity()\n",
        "  gluPerspective(90, (DISPLAY_WIDTH / DISPLAY_HEIGHT), 0.01, 100)\n",
        "\n",
        "  glEnable(GL_TEXTURE_2D)\n",
        "  glEnable(GL_DEPTH_TEST)\n",
        "  glDepthFunc(GL_LEQUAL)\n",
        "\n",
        "  glLightfv(GL_LIGHT0, GL_AMBIENT, light_ambient)\n",
        "  glLightfv(GL_LIGHT0, GL_POSITION, light_position)\n",
        "  glLightfv(GL_LIGHT0, GL_DIFFUSE, light_diffuse)\n",
        "  glEnable(GL_LIGHT0)\n",
        "  glEnable(GL_LIGHTING)\n",
        "  \n",
        "  glMatrixMode( GL_MODELVIEW )\n",
        "  glLoadIdentity()\n",
        "\n",
        "  glClearColor( 0.0, 0.0, 0.0, 1.0 )\n"
      ],
      "execution_count": 0,
      "outputs": []
    },
    {
      "cell_type": "code",
      "metadata": {
        "id": "tf1nDWXkXolc",
        "colab_type": "code",
        "colab": {}
      },
      "source": [
        "def dispose(window):\n",
        "  \n",
        "  glfw.destroy_window(window)\n",
        "  glfw.terminate()\n",
        "  \n",
        "  return"
      ],
      "execution_count": 0,
      "outputs": []
    },
    {
      "cell_type": "code",
      "metadata": {
        "id": "i-I8UWztXsnR",
        "colab_type": "code",
        "colab": {}
      },
      "source": [
        "window = init()"
      ],
      "execution_count": 0,
      "outputs": []
    },
    {
      "cell_type": "markdown",
      "metadata": {
        "id": "izcn6-rPhgV9",
        "colab_type": "text"
      },
      "source": [
        "Rajzoló függvény"
      ]
    },
    {
      "cell_type": "code",
      "metadata": {
        "id": "11gryiKRXyIe",
        "colab_type": "code",
        "colab": {}
      },
      "source": [
        "def renderCube(x, y, z, r, g, b):\n",
        "\n",
        "  glPushMatrix()\n",
        "  \n",
        "  glTranslatef( x, y, z );\n",
        "  \n",
        "  glBegin(GL_QUADS)\n",
        "  \n",
        "  glColor3f( r, g, b )\n",
        "  \n",
        "  glNormal3f(0, 0, -1)\n",
        "  glVertex3f( -0.5, -0.5 , -0.5)\n",
        "  glVertex3f(  0.5, -0.5 , -0.5)\n",
        "  glVertex3f(  0.5,  0.5 , -0.5)\n",
        "  glVertex3f( -0.5,  0.5 , -0.5)\n",
        "  \n",
        "  glNormal3f(0, 0, 1)\n",
        "  glVertex3f( -0.5,  0.5 , 0.5)\n",
        "  glVertex3f(  0.5,  0.5 , 0.5)\n",
        "  glVertex3f(  0.5, -0.5 , 0.5)\n",
        "  glVertex3f( -0.5, -0.5 , 0.5)\n",
        "  \n",
        "  glNormal3f(0, -1, 0)\n",
        "  glVertex3f( -0.5, -0.5 , -0.5)\n",
        "  glVertex3f(  0.5, -0.5 , -0.5)\n",
        "  glVertex3f(  0.5, -0.5 ,  0.5)\n",
        "  glVertex3f( -0.5, -0.5 ,  0.5)\n",
        "  \n",
        "  glNormal3f(0, 1, 0)\n",
        "  glVertex3f( -0.5, 0.5 , -0.5)\n",
        "  glVertex3f(  0.5, 0.5 , -0.5)\n",
        "  glVertex3f(  0.5, 0.5 ,  0.5)\n",
        "  glVertex3f( -0.5, 0.5 ,  0.5)\n",
        "  \n",
        "  glNormal3f(-1, 0, 0)\n",
        "  glVertex3f( -0.5, -0.5 ,  -0.5)\n",
        "  glVertex3f( -0.5,  0.5 ,  -0.5)\n",
        "  glVertex3f( -0.5,  0.5 ,   0.5)\n",
        "  glVertex3f( -0.5, -0.5 ,   0.5)\n",
        "  \n",
        "  glNormal3f(1, 0, 0)\n",
        "  glVertex3f( 0.5, -0.5 ,  -0.5)\n",
        "  glVertex3f( 0.5,  0.5 ,  -0.5)\n",
        "  glVertex3f( 0.5,  0.5 ,   0.5)\n",
        "  glVertex3f( 0.5, -0.5 ,   0.5)\n",
        "  \n",
        "  glEnd()\n",
        "  \n",
        "  glPopMatrix()\n",
        "\n",
        "def render(rx, widht, height):\n",
        "  \n",
        "  glClear(GL_COLOR_BUFFER_BIT | GL_DEPTH_BUFFER_BIT)\n",
        "  \n",
        "  glPushMatrix()\n",
        "  \n",
        "  gluLookAt(0, 0, 1.5,\n",
        "            0, 0, -1,\n",
        "            0, 1, 0)\n",
        "  \n",
        "  glTranslatef( 0.0, 0.0, 0.0 )\n",
        "  \n",
        "  glRotatef(rx, 1, 0, 0)\n",
        "  \n",
        "  glColorMaterial(GL_FRONT_AND_BACK, GL_AMBIENT_AND_DIFFUSE)\n",
        "  glEnable(GL_COLOR_MATERIAL)\n",
        "  \n",
        "  #renderCube(0, 0, 0, 1, 0, 0)\n",
        "  #renderCube(0, 1, 0, 0, 1, 0)\n",
        "  #renderCube(0, -1, 0, 0, 0, 1)\n",
        "\n",
        "  glBegin(GL_QUADS)  \n",
        "  \n",
        "  glColor3f( 1.0, 0.0, 0.0 )\n",
        "  glNormal3f(0, 0, -1)\n",
        "  glVertex3f( -0.5, -0.5 , -0.5)\n",
        "  glVertex3f(  0.5, -0.5 , -0.5)\n",
        "  glVertex3f(  0.5,  0.5 , -0.5)\n",
        "  glVertex3f( -0.5,  0.5 , -0.5)\n",
        "  \n",
        "  glColor3f( 0.0, 1.0, 0.0 )\n",
        "  glNormal3f(0, 0, 1)\n",
        "  glVertex3f( -0.5,  0.5 , 0.5)\n",
        "  glVertex3f(  0.5,  0.5 , 0.5)\n",
        "  glVertex3f(  0.5, -0.5 , 0.5)\n",
        "  glVertex3f( -0.5, -0.5 , 0.5)\n",
        "  \n",
        "  glColor3f( 1.0, 0.0, 0.0 )\n",
        "  glNormal3f(0, -1, 0)\n",
        "  glVertex3f( -0.5, -0.5 , -0.5)\n",
        "  glColor3f( 0.0, 1.0, 0.0 )\n",
        "  glVertex3f(  0.5, -0.5 , -0.5)\n",
        "  glColor3f( 0.0, 0.0, 1.0 )\n",
        "  glVertex3f(  0.5, -0.5 , 0.5)\n",
        "  glColor3f( 1.0, 1.0, 1.0 )\n",
        "  glVertex3f( -0.5, -0.5 , 0.5)\n",
        "  \n",
        "  \n",
        "  glColor3f( 0.0, 1.0, 0.0 )\n",
        "  glNormal3f(0, 1, 0)\n",
        "  glVertex3f( -0.5, 0.5 , -0.5)\n",
        "  glColor3f( 0.0, 1.0, 0.0 )\n",
        "  glVertex3f(  0.5, 0.5 , -0.5)\n",
        "  glColor3f( 1.0, 1.0, 0.0 )\n",
        "  glVertex3f( 0.5, 0.5 , 0.5)\n",
        "  glColor3f( 1.0, 1.0, 0.0 )\n",
        "  glVertex3f(  -0.5, 0.5 , 0.5)\n",
        "  \n",
        "  glEnd()\n",
        "  \n",
        "  glPopMatrix()\n",
        "  \n",
        "  image_buffer = glReadPixels(0, 0, widht, height, OpenGL.GL.GL_RGB, OpenGL.GL.GL_UNSIGNED_BYTE)\n",
        "  image = np.frombuffer(image_buffer, dtype=np.uint8).reshape(widht, height, 3)\n",
        "\n",
        "  return image"
      ],
      "execution_count": 0,
      "outputs": []
    },
    {
      "cell_type": "code",
      "metadata": {
        "id": "5pE5MqCte4is",
        "colab_type": "code",
        "colab": {}
      },
      "source": [
        "image = render(50, DISPLAY_WIDTH, DISPLAY_HEIGHT)\n",
        "\n",
        "plt.figure(1)\n",
        "plt.imshow(image)\n",
        "plt.show()"
      ],
      "execution_count": 0,
      "outputs": []
    },
    {
      "cell_type": "markdown",
      "metadata": {
        "id": "Imp8jOj9hqwg",
        "colab_type": "text"
      },
      "source": [
        "Adat betöltő osztály"
      ]
    },
    {
      "cell_type": "code",
      "metadata": {
        "id": "d4S-VlfSYL8w",
        "colab_type": "code",
        "colab": {}
      },
      "source": [
        "class ToTensor(object):\n",
        "\n",
        "    def __call__(self, sample):\n",
        "        input, output = sample['input'], sample['output']\n",
        "        \n",
        "        inp = np.zeros(1)\n",
        "        inp[0] = input\n",
        "        \n",
        "        output = np.divide(output, 255.0)\n",
        "\n",
        "        return {'input': torch.from_numpy(inp).float(),\n",
        "                'output': torch.from_numpy(output).float()}\n",
        "\n",
        "class RenderDataset(Dataset):\n",
        "  \n",
        "  def __init__(self, width, height, transform=None, training=True):\n",
        "    super(RenderDataset, self).__init__()\n",
        "    \n",
        "    self.transform = transform\n",
        "    self.width = width\n",
        "    self.height = height\n",
        "    self.training = training\n",
        "    self.divider = 10\n",
        "    \n",
        "  def __len__(self):\n",
        "    return 360\n",
        "  \n",
        "  def __getitem__(self, idx):\n",
        "    \n",
        "    #TODO: Renderelés meghívása\n",
        "    \n",
        "    \n",
        "    y = np.zeros((3, DISPLAY_WIDTH, DISPLAY_HEIGHT))\n",
        "    y = np.transpose(y, (2, 1, 0))\n",
        "    \n",
        "    sample = {'input': idx, 'output': y}\n",
        "\n",
        "    if self.transform:\n",
        "        sample = self.transform(sample)\n",
        "\n",
        "    return sample"
      ],
      "execution_count": 0,
      "outputs": []
    },
    {
      "cell_type": "markdown",
      "metadata": {
        "id": "R4n211OEiPc5",
        "colab_type": "text"
      },
      "source": [
        "Egyszerű hálózat"
      ]
    },
    {
      "cell_type": "code",
      "metadata": {
        "id": "KKH_NgWQYTLn",
        "colab_type": "code",
        "colab": {}
      },
      "source": [
        "class Decoder(nn.Module):\n",
        "  def __init__(self, latent_size, output_size):\n",
        "    super(Decoder, self).__init__()\n",
        "\n",
        "    self.latent_size = latent_size\n",
        "    self.output_size = output_size\n",
        "\n",
        "    self.fc = nn.Linear(self.latent_size, 256)\n",
        "\n",
        "    self.cnn_decoder = nn.Sequential(\n",
        "        nn.ConvTranspose2d(1, 32, kernel_size=4, stride=2, padding=2, dilation=1),\n",
        "        nn.ELU(),\n",
        "\n",
        "        nn.ConvTranspose2d(32, 64, kernel_size=4, stride=2, padding=2, dilation=1),\n",
        "        nn.ELU(),\n",
        "\n",
        "        nn.ConvTranspose2d(64, 64, kernel_size=4, stride=2, padding=2, dilation=1),\n",
        "        nn.ELU(),\n",
        "        \n",
        "        nn.ConvTranspose2d(64, 64, kernel_size=4, stride=2, padding=2, dilation=1),\n",
        "        nn.ELU(),\n",
        "        \n",
        "        nn.ConvTranspose2d(64, 3, kernel_size=5, stride=2, padding=1, dilation=1),\n",
        "        nn.ELU(),\n",
        "    )\n",
        "        \n",
        "  def forward(self, latent_input):\n",
        "    #----------------------------------------------------------------\n",
        "    out = self.fc(latent_input)\n",
        "    out = out.view(out.size(0), 1, 16, 16)\n",
        "    out = self.cnn_decoder(out)\n",
        "    out = out[0:out.size(0), 0:3, 0:self.output_size[0], 0:self.output_size[1]]\n",
        "    #----------------------------------------------------------------\n",
        "    \n",
        "    return out"
      ],
      "execution_count": 0,
      "outputs": []
    },
    {
      "cell_type": "markdown",
      "metadata": {
        "id": "VNX6ZwkriSup",
        "colab_type": "text"
      },
      "source": [
        "Egy lehetsége saját loss függvény"
      ]
    },
    {
      "cell_type": "code",
      "metadata": {
        "id": "_w0_qiXlYo_9",
        "colab_type": "code",
        "colab": {}
      },
      "source": [
        "class MyLoss(nn.Module):\n",
        "\n",
        "    def __init__(self, cuda):\n",
        "        super(MyLoss, self).__init__()\n",
        "\n",
        "        a = np.array([[1, 0, -1], [2, 0, -2], [1, 0, -1]])\n",
        "        self.conv1 = nn.Conv2d(1, 1, kernel_size=3, stride=1, padding=1, bias=False)\n",
        "        self.conv1.weight = nn.Parameter(torch.from_numpy(a).float().unsqueeze(0).unsqueeze(0))\n",
        "\n",
        "        b = np.array([[1, 2, 1], [0, 0, 0], [-1, -2, -1]])\n",
        "        self.conv2 = nn.Conv2d(1, 1, kernel_size=3, stride=1, padding=1, bias=False)\n",
        "        self.conv2.weight = nn.Parameter(torch.from_numpy(b).float().unsqueeze(0).unsqueeze(0))\n",
        "\n",
        "        self.cuda = cuda\n",
        "        if cuda:\n",
        "            self.conv1.cuda()\n",
        "            self.conv2.cuda()\n",
        "\n",
        "    def getLuminance(self, x):\n",
        "\n",
        "        L = torch.autograd.Variable(torch.zeros([x.size()[0], 1, x.size()[2], x.size()[3]]), requires_grad=False)\n",
        "\n",
        "        if self.cuda:\n",
        "            L = L.cuda()\n",
        "\n",
        "        L[:, 0, :, :] = 0.2126 * x[:, 0, :, :] + 0.7152 * x[:, 1, :, :] + 0.0722 * x[:, 2, :, :]\n",
        "\n",
        "        return L\n",
        "\n",
        "    def forward(self, x, y):\n",
        "\n",
        "        Lx = self.getLuminance(x)\n",
        "        Ly = self.getLuminance(y)\n",
        "\n",
        "        dLxx = self.conv1(Lx)\n",
        "        dLxy = self.conv2(Lx)\n",
        "\n",
        "        dLyx = self.conv1(Ly)\n",
        "        dLyy = self.conv2(Ly)\n",
        "\n",
        "        diff = (dLxx - dLyx) * (dLxx - dLyx) + (dLxy - dLyy) * (dLxy - dLyy) + (x - y) * (x - y)\n",
        "        diff = torch.sum(diff) / x.numel()\n",
        "\n",
        "        loss = diff \n",
        "        \n",
        "        return loss\n",
        "      \n",
        "myLoss = MyLoss(True)"
      ],
      "execution_count": 0,
      "outputs": []
    },
    {
      "cell_type": "markdown",
      "metadata": {
        "id": "fJncwBJtiXEZ",
        "colab_type": "text"
      },
      "source": [
        "VGG16 feature alapú loss"
      ]
    },
    {
      "cell_type": "code",
      "metadata": {
        "id": "tTwtWjhRYvO_",
        "colab_type": "code",
        "colab": {}
      },
      "source": [
        "LossOutput = namedtuple(\"LossOutput\", [\"relu1_2\", \"relu2_2\", \"relu3_3\", \"relu4_3\"])\n",
        "# https://discuss.pytorch.org/t/how-to-extract-features-of-an-image-from-a-trained-model/119/3\n",
        "class LossNetwork(torch.nn.Module):\n",
        "    def __init__(self, vgg_model):\n",
        "        super(LossNetwork, self).__init__()\n",
        "        self.vgg_layers = vgg_model.features\n",
        "        self.layer_name_mapping = {\n",
        "            '3': \"relu1_2\",\n",
        "            '8': \"relu2_2\",\n",
        "            '15': \"relu3_3\",\n",
        "            '22': \"relu4_3\"\n",
        "        }\n",
        "    \n",
        "    def forward(self, x):\n",
        "        output = {}\n",
        "        for name, module in self.vgg_layers._modules.items():\n",
        "            x = module(x)\n",
        "            if name in self.layer_name_mapping:\n",
        "                output[self.layer_name_mapping[name]] = x\n",
        "        return LossOutput(**output)\n",
        "      \n",
        "      \n",
        "vgg_model = vgg.vgg16(pretrained=True)\n",
        "vgg_model.cuda()\n",
        "loss_network = LossNetwork(vgg_model)\n",
        "loss_network.cuda()\n",
        "loss_network.eval()"
      ],
      "execution_count": 0,
      "outputs": []
    },
    {
      "cell_type": "code",
      "metadata": {
        "id": "TF28cZYBifhA",
        "colab_type": "code",
        "colab": {}
      },
      "source": [
        "Tanító metódus"
      ],
      "execution_count": 0,
      "outputs": []
    },
    {
      "cell_type": "code",
      "metadata": {
        "id": "UrMfK3I5ZLmI",
        "colab_type": "code",
        "colab": {}
      },
      "source": [
        "def training():\n",
        "  \n",
        "  for epoch in range(100):\n",
        "  \n",
        "    running_loss = 0.0\n",
        "    net.train()\n",
        "\n",
        "    for i, data in enumerate(trainLoader, 0):\n",
        "\n",
        "      input, output = data['input'], data['output']\n",
        "      input, output = input.cuda(), output.cuda()\n",
        "\n",
        "      optimizer.zero_grad()\n",
        "\n",
        "      result = net(input)\n",
        "      loss = mse(result, output)\n",
        "\n",
        "      loss.backward()\n",
        "      optimizer.step()\n",
        "\n",
        "      running_loss += loss.item()\n",
        "\n",
        "    tr_loss = running_loss / len(trainLoader)\n",
        "    print(\"Train epoch %d loss: %.3f\" % (epoch + 1, tr_loss))\n",
        "    "
      ],
      "execution_count": 0,
      "outputs": []
    },
    {
      "cell_type": "code",
      "metadata": {
        "id": "oyGV78fnZgcY",
        "colab_type": "code",
        "colab": {}
      },
      "source": [
        "tt = ToTensor()\n",
        "trainingDS = RenderDataset(width = DISPLAY_WIDTH, height = DISPLAY_HEIGHT, transform = tt)\n",
        "trainLoader = DataLoader(trainingDS, batch_size=16, shuffle=True, num_workers=0)\n",
        "\n",
        "net = Decoder(1, (DISPLAY_WIDTH, DISPLAY_HEIGHT))\n",
        "net.cuda()\n",
        "\n",
        "mse = torch.nn.MSELoss()"
      ],
      "execution_count": 0,
      "outputs": []
    },
    {
      "cell_type": "code",
      "metadata": {
        "id": "xM28txuCZa5A",
        "colab_type": "code",
        "colab": {}
      },
      "source": [
        "optimizer = torch.optim.Adam(net.parameters(), lr=0.001)\n",
        "\n",
        "training()"
      ],
      "execution_count": 0,
      "outputs": []
    },
    {
      "cell_type": "markdown",
      "metadata": {
        "id": "tHQfWJAvikfc",
        "colab_type": "text"
      },
      "source": [
        "Vizuális kiértékelés"
      ]
    },
    {
      "cell_type": "code",
      "metadata": {
        "id": "6KA4Eqv4ZrQi",
        "colab_type": "code",
        "colab": {}
      },
      "source": [
        "evalDS = RenderDataset(width = DISPLAY_WIDTH, height = DISPLAY_HEIGHT, transform = tt, training=False)\n",
        "\n",
        "idx = 135\n",
        "\n",
        "net.eval()\n",
        "\n",
        "image = evalDS[idx]\n",
        "input = np.zeros((1, 1))\n",
        "input[0, 0] = image['input']\n",
        "result = net(torch.from_numpy(input).float().cuda())\n",
        "npResult = result.detach().cpu().numpy()[0, :, :, :];\n",
        "\n",
        "plt.figure(1)\n",
        "plt.subplot(2, 2, 1)\n",
        "plt.imshow(np.transpose(npResult, (2, 1, 0)))\n",
        "plt.subplot(2, 2, 2)\n",
        "plt.imshow(np.transpose(image['output'].numpy(), (2, 1, 0)))\n",
        "\n",
        "image = evalDS[idx + 9]\n",
        "input = np.zeros((1, 1))\n",
        "input[0, 0] = image['input']\n",
        "result = net(torch.from_numpy(input).float().cuda())\n",
        "npResult = result.detach().cpu().numpy()[0, :, :, :];\n",
        "print(npResult.shape)\n",
        "\n",
        "plt.figure(1)\n",
        "plt.subplot(2, 2, 3)\n",
        "plt.imshow(np.transpose(npResult, (2, 1, 0)))\n",
        "plt.subplot(2, 2, 4)\n",
        "plt.imshow(np.transpose(image['output'].numpy(), (2, 1, 0)))\n",
        "\n",
        "plt.show()"
      ],
      "execution_count": 0,
      "outputs": []
    }
  ]
}